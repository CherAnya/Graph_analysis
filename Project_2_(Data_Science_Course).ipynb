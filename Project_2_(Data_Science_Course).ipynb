{
 "cells": [
  {
   "cell_type": "code",
   "execution_count": 1,
   "metadata": {},
   "outputs": [],
   "source": [
    "import pandas as pd\n",
    "import numpy as np\n",
    "%matplotlib inline\n",
    "import matplotlib.pyplot as plt\n",
    "import seaborn as sns\n",
    "from pymystem3 import Mystem\n",
    "import re\n",
    "from collections import Counter"
   ]
  },
  {
   "cell_type": "code",
   "execution_count": 379,
   "metadata": {},
   "outputs": [
    {
     "data": {
      "text/html": [
       "<div>\n",
       "<style scoped>\n",
       "    .dataframe tbody tr th:only-of-type {\n",
       "        vertical-align: middle;\n",
       "    }\n",
       "\n",
       "    .dataframe tbody tr th {\n",
       "        vertical-align: top;\n",
       "    }\n",
       "\n",
       "    .dataframe thead th {\n",
       "        text-align: right;\n",
       "    }\n",
       "</style>\n",
       "<table border=\"1\" class=\"dataframe\">\n",
       "  <thead>\n",
       "    <tr style=\"text-align: right;\">\n",
       "      <th></th>\n",
       "      <th>total_images</th>\n",
       "      <th>last_price</th>\n",
       "      <th>total_area</th>\n",
       "      <th>first_day_exposition</th>\n",
       "      <th>rooms</th>\n",
       "      <th>ceiling_height</th>\n",
       "      <th>floors_total</th>\n",
       "      <th>living_area</th>\n",
       "      <th>floor</th>\n",
       "      <th>is_apartment</th>\n",
       "      <th>...</th>\n",
       "      <th>kitchen_area</th>\n",
       "      <th>balcony</th>\n",
       "      <th>locality_name</th>\n",
       "      <th>airports_nearest</th>\n",
       "      <th>cityCenters_nearest</th>\n",
       "      <th>parks_around3000</th>\n",
       "      <th>parks_nearest</th>\n",
       "      <th>ponds_around3000</th>\n",
       "      <th>ponds_nearest</th>\n",
       "      <th>days_exposition</th>\n",
       "    </tr>\n",
       "  </thead>\n",
       "  <tbody>\n",
       "    <tr>\n",
       "      <th>0</th>\n",
       "      <td>20</td>\n",
       "      <td>13000000.0</td>\n",
       "      <td>108.0</td>\n",
       "      <td>2019-03-07T00:00:00</td>\n",
       "      <td>3</td>\n",
       "      <td>2.70</td>\n",
       "      <td>16.0</td>\n",
       "      <td>51.0</td>\n",
       "      <td>8</td>\n",
       "      <td>NaN</td>\n",
       "      <td>...</td>\n",
       "      <td>25.0</td>\n",
       "      <td>NaN</td>\n",
       "      <td>Санкт-Петербург</td>\n",
       "      <td>18863.0</td>\n",
       "      <td>16028.0</td>\n",
       "      <td>1.0</td>\n",
       "      <td>482.0</td>\n",
       "      <td>2.0</td>\n",
       "      <td>755.0</td>\n",
       "      <td>NaN</td>\n",
       "    </tr>\n",
       "    <tr>\n",
       "      <th>1</th>\n",
       "      <td>7</td>\n",
       "      <td>3350000.0</td>\n",
       "      <td>40.4</td>\n",
       "      <td>2018-12-04T00:00:00</td>\n",
       "      <td>1</td>\n",
       "      <td>NaN</td>\n",
       "      <td>11.0</td>\n",
       "      <td>18.6</td>\n",
       "      <td>1</td>\n",
       "      <td>NaN</td>\n",
       "      <td>...</td>\n",
       "      <td>11.0</td>\n",
       "      <td>2.0</td>\n",
       "      <td>посёлок Шушары</td>\n",
       "      <td>12817.0</td>\n",
       "      <td>18603.0</td>\n",
       "      <td>0.0</td>\n",
       "      <td>NaN</td>\n",
       "      <td>0.0</td>\n",
       "      <td>NaN</td>\n",
       "      <td>81.0</td>\n",
       "    </tr>\n",
       "    <tr>\n",
       "      <th>2</th>\n",
       "      <td>10</td>\n",
       "      <td>5196000.0</td>\n",
       "      <td>56.0</td>\n",
       "      <td>2015-08-20T00:00:00</td>\n",
       "      <td>2</td>\n",
       "      <td>NaN</td>\n",
       "      <td>5.0</td>\n",
       "      <td>34.3</td>\n",
       "      <td>4</td>\n",
       "      <td>NaN</td>\n",
       "      <td>...</td>\n",
       "      <td>8.3</td>\n",
       "      <td>0.0</td>\n",
       "      <td>Санкт-Петербург</td>\n",
       "      <td>21741.0</td>\n",
       "      <td>13933.0</td>\n",
       "      <td>1.0</td>\n",
       "      <td>90.0</td>\n",
       "      <td>2.0</td>\n",
       "      <td>574.0</td>\n",
       "      <td>558.0</td>\n",
       "    </tr>\n",
       "    <tr>\n",
       "      <th>3</th>\n",
       "      <td>0</td>\n",
       "      <td>64900000.0</td>\n",
       "      <td>159.0</td>\n",
       "      <td>2015-07-24T00:00:00</td>\n",
       "      <td>3</td>\n",
       "      <td>NaN</td>\n",
       "      <td>14.0</td>\n",
       "      <td>NaN</td>\n",
       "      <td>9</td>\n",
       "      <td>NaN</td>\n",
       "      <td>...</td>\n",
       "      <td>NaN</td>\n",
       "      <td>0.0</td>\n",
       "      <td>Санкт-Петербург</td>\n",
       "      <td>28098.0</td>\n",
       "      <td>6800.0</td>\n",
       "      <td>2.0</td>\n",
       "      <td>84.0</td>\n",
       "      <td>3.0</td>\n",
       "      <td>234.0</td>\n",
       "      <td>424.0</td>\n",
       "    </tr>\n",
       "    <tr>\n",
       "      <th>4</th>\n",
       "      <td>2</td>\n",
       "      <td>10000000.0</td>\n",
       "      <td>100.0</td>\n",
       "      <td>2018-06-19T00:00:00</td>\n",
       "      <td>2</td>\n",
       "      <td>3.03</td>\n",
       "      <td>14.0</td>\n",
       "      <td>32.0</td>\n",
       "      <td>13</td>\n",
       "      <td>NaN</td>\n",
       "      <td>...</td>\n",
       "      <td>41.0</td>\n",
       "      <td>NaN</td>\n",
       "      <td>Санкт-Петербург</td>\n",
       "      <td>31856.0</td>\n",
       "      <td>8098.0</td>\n",
       "      <td>2.0</td>\n",
       "      <td>112.0</td>\n",
       "      <td>1.0</td>\n",
       "      <td>48.0</td>\n",
       "      <td>121.0</td>\n",
       "    </tr>\n",
       "  </tbody>\n",
       "</table>\n",
       "<p>5 rows × 22 columns</p>\n",
       "</div>"
      ],
      "text/plain": [
       "   total_images  last_price  total_area first_day_exposition  rooms  \\\n",
       "0            20  13000000.0       108.0  2019-03-07T00:00:00      3   \n",
       "1             7   3350000.0        40.4  2018-12-04T00:00:00      1   \n",
       "2            10   5196000.0        56.0  2015-08-20T00:00:00      2   \n",
       "3             0  64900000.0       159.0  2015-07-24T00:00:00      3   \n",
       "4             2  10000000.0       100.0  2018-06-19T00:00:00      2   \n",
       "\n",
       "   ceiling_height  floors_total  living_area  floor is_apartment  ...  \\\n",
       "0            2.70          16.0         51.0      8          NaN  ...   \n",
       "1             NaN          11.0         18.6      1          NaN  ...   \n",
       "2             NaN           5.0         34.3      4          NaN  ...   \n",
       "3             NaN          14.0          NaN      9          NaN  ...   \n",
       "4            3.03          14.0         32.0     13          NaN  ...   \n",
       "\n",
       "   kitchen_area  balcony    locality_name  airports_nearest  \\\n",
       "0          25.0      NaN  Санкт-Петербург           18863.0   \n",
       "1          11.0      2.0   посёлок Шушары           12817.0   \n",
       "2           8.3      0.0  Санкт-Петербург           21741.0   \n",
       "3           NaN      0.0  Санкт-Петербург           28098.0   \n",
       "4          41.0      NaN  Санкт-Петербург           31856.0   \n",
       "\n",
       "  cityCenters_nearest  parks_around3000  parks_nearest  ponds_around3000  \\\n",
       "0             16028.0               1.0          482.0               2.0   \n",
       "1             18603.0               0.0            NaN               0.0   \n",
       "2             13933.0               1.0           90.0               2.0   \n",
       "3              6800.0               2.0           84.0               3.0   \n",
       "4              8098.0               2.0          112.0               1.0   \n",
       "\n",
       "   ponds_nearest  days_exposition  \n",
       "0          755.0              NaN  \n",
       "1            NaN             81.0  \n",
       "2          574.0            558.0  \n",
       "3          234.0            424.0  \n",
       "4           48.0            121.0  \n",
       "\n",
       "[5 rows x 22 columns]"
      ]
     },
     "execution_count": 379,
     "metadata": {},
     "output_type": "execute_result"
    }
   ],
   "source": [
    "# sep - разделитель колонок; decimal - разделитель дробей\n",
    "df = pd.read_csv('C:/Users/atche/real_estate_data.csv',  sep='\t' , decimal='.')\n",
    "df.head()"
   ]
  },
  {
   "cell_type": "code",
   "execution_count": 380,
   "metadata": {},
   "outputs": [
    {
     "name": "stdout",
     "output_type": "stream",
     "text": [
      "<class 'pandas.core.frame.DataFrame'>\n",
      "RangeIndex: 23699 entries, 0 to 23698\n",
      "Data columns (total 22 columns):\n",
      "total_images            23699 non-null int64\n",
      "last_price              23699 non-null float64\n",
      "total_area              23699 non-null float64\n",
      "first_day_exposition    23699 non-null object\n",
      "rooms                   23699 non-null int64\n",
      "ceiling_height          14504 non-null float64\n",
      "floors_total            23613 non-null float64\n",
      "living_area             21796 non-null float64\n",
      "floor                   23699 non-null int64\n",
      "is_apartment            2775 non-null object\n",
      "studio                  23699 non-null bool\n",
      "open_plan               23699 non-null bool\n",
      "kitchen_area            21421 non-null float64\n",
      "balcony                 12180 non-null float64\n",
      "locality_name           23650 non-null object\n",
      "airports_nearest        18157 non-null float64\n",
      "cityCenters_nearest     18180 non-null float64\n",
      "parks_around3000        18181 non-null float64\n",
      "parks_nearest           8079 non-null float64\n",
      "ponds_around3000        18181 non-null float64\n",
      "ponds_nearest           9110 non-null float64\n",
      "days_exposition         20518 non-null float64\n",
      "dtypes: bool(2), float64(14), int64(3), object(3)\n",
      "memory usage: 8.1 MB\n"
     ]
    }
   ],
   "source": [
    "df.info(memory_usage='deep')"
   ]
  },
  {
   "cell_type": "markdown",
   "metadata": {},
   "source": [
    "Просмотр пропущенных значений"
   ]
  },
  {
   "cell_type": "code",
   "execution_count": 381,
   "metadata": {},
   "outputs": [
    {
     "data": {
      "text/plain": [
       "ceiling_height          9195\n",
       "floors_total              86\n",
       "living_area             1903\n",
       "is_apartment           20924\n",
       "kitchen_area            2278\n",
       "balcony                11519\n",
       "locality_name             49\n",
       "airports_nearest        5542\n",
       "cityCenters_nearest     5519\n",
       "parks_around3000        5518\n",
       "parks_nearest          15620\n",
       "ponds_around3000        5518\n",
       "ponds_nearest          14589\n",
       "days_exposition         3181\n",
       "Name: nans, dtype: int64"
      ]
     },
     "execution_count": 381,
     "metadata": {},
     "output_type": "execute_result"
    }
   ],
   "source": [
    "df.isna().sum().to_frame(name = \"nans\").query(\"nans > 0\")[\"nans\"]"
   ]
  },
  {
   "cell_type": "markdown",
   "metadata": {},
   "source": [
    "Высоту потолков (ceiling_height) можно заменить медианой (которая более устойчива к выбросам).\n",
    "Пропущенные значения параметров is_apartment, balcony заменим нулем. "
   ]
  },
  {
   "cell_type": "code",
   "execution_count": 382,
   "metadata": {},
   "outputs": [
    {
     "data": {
      "text/plain": [
       "count    14504.000000\n",
       "mean         2.771499\n",
       "std          1.261056\n",
       "min          1.000000\n",
       "25%          2.520000\n",
       "50%          2.650000\n",
       "75%          2.800000\n",
       "max        100.000000\n",
       "Name: ceiling_height, dtype: float64"
      ]
     },
     "execution_count": 382,
     "metadata": {},
     "output_type": "execute_result"
    }
   ],
   "source": [
    "df.ceiling_height.describe()"
   ]
  },
  {
   "cell_type": "code",
   "execution_count": 383,
   "metadata": {},
   "outputs": [],
   "source": [
    "df = df.sort_values(by = 'ceiling_height', ascending = True)\n",
    "df = df.fillna({'ceiling_height': df.ceiling_height.median()})\n",
    "df = df.sort_index(ascending = True)"
   ]
  },
  {
   "cell_type": "code",
   "execution_count": 384,
   "metadata": {},
   "outputs": [],
   "source": [
    "df['is_apartment'] = df['is_apartment'].fillna(0)\n",
    "df['balcony'] = df['balcony'].fillna(0)"
   ]
  },
  {
   "cell_type": "markdown",
   "metadata": {},
   "source": [
    "Заменим тип данных на int у значений признаков last_price, floors_total, balcony, airports_nearest, cityCenters_nearest, parks_around3000, parks_nearest, ponds_around3000, ponds_nearest, days_exposition. Значения части из перечисленных признаков можно округлить до целого числа для удобства. Другие значения не могут быть дробными (например, количество этажей)."
   ]
  },
  {
   "cell_type": "code",
   "execution_count": 385,
   "metadata": {},
   "outputs": [
    {
     "data": {
      "text/plain": [
       "count    23613.000000\n",
       "mean        10.673824\n",
       "std          6.597173\n",
       "min          1.000000\n",
       "25%          5.000000\n",
       "50%          9.000000\n",
       "75%         16.000000\n",
       "max         60.000000\n",
       "Name: floors_total, dtype: float64"
      ]
     },
     "execution_count": 385,
     "metadata": {},
     "output_type": "execute_result"
    }
   ],
   "source": [
    "df.floors_total.describe()"
   ]
  },
  {
   "cell_type": "code",
   "execution_count": 386,
   "metadata": {},
   "outputs": [],
   "source": [
    "df = df.astype({'last_price' : 'Int64', 'floors_total': 'Int64', 'balcony' : 'Int64', 'airports_nearest': 'Int64',\n",
    "                'cityCenters_nearest': 'Int64', 'parks_around3000': 'Int64', 'parks_nearest': 'Int64', \n",
    "                'ponds_around3000': 'Int64', 'ponds_nearest': 'Int64'})"
   ]
  },
  {
   "cell_type": "code",
   "execution_count": 387,
   "metadata": {},
   "outputs": [],
   "source": [
    "df['days_exposition'] = np.around(df.days_exposition)\n",
    "df['days_exposition'] = df.days_exposition.astype('Int64')"
   ]
  },
  {
   "cell_type": "markdown",
   "metadata": {},
   "source": [
    "Значения признака first_day_exposition необходимо привести к типу datetime; значения признаков is_apartment, studio, open_plan - к int."
   ]
  },
  {
   "cell_type": "code",
   "execution_count": 388,
   "metadata": {},
   "outputs": [],
   "source": [
    "df['first_day_exposition'] = pd.to_datetime(df['first_day_exposition'])"
   ]
  },
  {
   "cell_type": "code",
   "execution_count": 389,
   "metadata": {},
   "outputs": [],
   "source": [
    "df['is_apartment'] = df.is_apartment.astype('bool')"
   ]
  },
  {
   "cell_type": "code",
   "execution_count": 390,
   "metadata": {},
   "outputs": [],
   "source": [
    "df = df.astype({'is_apartment': 'int64', 'studio': 'int64', 'open_plan': 'int64'})"
   ]
  },
  {
   "cell_type": "code",
   "execution_count": 391,
   "metadata": {},
   "outputs": [
    {
     "data": {
      "text/plain": [
       "total_images                     int64\n",
       "last_price                       Int64\n",
       "total_area                     float64\n",
       "first_day_exposition    datetime64[ns]\n",
       "rooms                            int64\n",
       "ceiling_height                 float64\n",
       "floors_total                     Int64\n",
       "living_area                    float64\n",
       "floor                            int64\n",
       "is_apartment                     int64\n",
       "studio                           int64\n",
       "open_plan                        int64\n",
       "kitchen_area                   float64\n",
       "balcony                          Int64\n",
       "locality_name                   object\n",
       "airports_nearest                 Int64\n",
       "cityCenters_nearest              Int64\n",
       "parks_around3000                 Int64\n",
       "parks_nearest                    Int64\n",
       "ponds_around3000                 Int64\n",
       "ponds_nearest                    Int64\n",
       "days_exposition                  Int64\n",
       "dtype: object"
      ]
     },
     "execution_count": 391,
     "metadata": {},
     "output_type": "execute_result"
    }
   ],
   "source": [
    "df.dtypes"
   ]
  },
  {
   "cell_type": "markdown",
   "metadata": {},
   "source": [
    "Необходимо удалить лишние слова из признака locality_name, такие как \"поселок\", \"деревня\"."
   ]
  },
  {
   "cell_type": "code",
   "execution_count": 392,
   "metadata": {},
   "outputs": [
    {
     "data": {
      "text/plain": [
       "Санкт-Петербург                      15721\n",
       "посёлок Мурино                         522\n",
       "посёлок Шушары                         440\n",
       "Всеволожск                             398\n",
       "Пушкин                                 369\n",
       "Колпино                                338\n",
       "посёлок Парголово                      327\n",
       "Гатчина                                307\n",
       "деревня Кудрово                        299\n",
       "Выборг                                 237\n",
       "Петергоф                               201\n",
       "Сестрорецк                             183\n",
       "Красное Село                           178\n",
       "Кудрово                                173\n",
       "деревня Новое Девяткино                144\n",
       "Сертолово                              142\n",
       "Ломоносов                              133\n",
       "Кириши                                 125\n",
       "Сланцы                                 112\n",
       "Волхов                                 111\n",
       "Тосно                                  104\n",
       "Кингисепп                              104\n",
       "Кронштадт                               96\n",
       "Никольское                              93\n",
       "Коммунар                                89\n",
       "Сосновый Бор                            87\n",
       "Кировск                                 84\n",
       "Отрадное                                80\n",
       "посёлок Бугры                           69\n",
       "Приозерск                               66\n",
       "                                     ...  \n",
       "деревня Нижние Осельки                   1\n",
       "поселок Севастьяново                     1\n",
       "садовое товарищество Приладожский        1\n",
       "поселок Пчевжа                           1\n",
       "поселок Усть-Луга                        1\n",
       "посёлок Пансионат Зелёный Бор            1\n",
       "поселок Тёсово-4                         1\n",
       "коттеджный посёлок Лесное                1\n",
       "поселок Почап                            1\n",
       "посёлок Платформа 69-й километр          1\n",
       "деревня Старое Хинколово                 1\n",
       "поселок Лисий Нос                        1\n",
       "поселок станции Лужайка                  1\n",
       "поселок Калитино                         1\n",
       "поселок Цвылёво                          1\n",
       "поселок Ромашки                          1\n",
       "садовое товарищество Садко               1\n",
       "деревня Пчева                            1\n",
       "садовое товарищество Рахья               1\n",
       "деревня Хапо-Ое                          1\n",
       "деревня Иссад                            1\n",
       "посёлок Белоостров                       1\n",
       "поселок городского типа Рябово           1\n",
       "посёлок Форт Красная Горка               1\n",
       "деревня Раздолье                         1\n",
       "деревня Нижняя                           1\n",
       "деревня Терпилицы                        1\n",
       "деревня Пельгора                         1\n",
       "деревня Хязельки                         1\n",
       "поселок станции Корнево                  1\n",
       "Name: locality_name, Length: 364, dtype: int64"
      ]
     },
     "execution_count": 392,
     "metadata": {},
     "output_type": "execute_result"
    }
   ],
   "source": [
    "df.locality_name.value_counts()"
   ]
  },
  {
   "cell_type": "markdown",
   "metadata": {},
   "source": [
    "Проверим частоту встречания слов в признаке locality_name"
   ]
  },
  {
   "cell_type": "code",
   "execution_count": 393,
   "metadata": {},
   "outputs": [
    {
     "name": "stdout",
     "output_type": "stream",
     "text": [
      "                word   freq\n",
      "0    Санкт-Петербург  15721\n",
      "1            посёлок   2108\n",
      "2            деревня    945\n",
      "3             Мурино    590\n",
      "4            поселок    552\n",
      "5            Кудрово    472\n",
      "6             Шушары    440\n",
      "7         Всеволожск    398\n",
      "8             Пушкин    369\n",
      "9         городского    363\n",
      "10              типа    363\n",
      "11           Колпино    338\n",
      "12         Парголово    327\n",
      "13           Гатчина    307\n",
      "14            Выборг    237\n",
      "15          Петергоф    201\n",
      "16         городской    187\n",
      "17        Сестрорецк    183\n",
      "18           Красное    178\n",
      "19              Село    178\n",
      "20             Новое    144\n",
      "21         Девяткино    144\n",
      "22         Сертолово    142\n",
      "23         Ломоносов    133\n",
      "24            Кириши    125\n",
      "25             Бугры    114\n",
      "26            Сланцы    112\n",
      "27            Волхов    111\n",
      "28         Кингисепп    104\n",
      "29             Тосно    104\n",
      "30               Бор    101\n",
      "31         Кронштадт     96\n",
      "32        Никольское     94\n",
      "33          Коммунар     89\n",
      "34          Сосновый     87\n",
      "35           Кировск     84\n",
      "36          Отрадное     80\n",
      "37            Старая     72\n",
      "38           Янино-1     68\n",
      "39         Приозерск     66\n",
      "40      Металлострой     66\n",
      "41      Шлиссельбург     57\n",
      "42              Луга     56\n",
      "43             имени     53\n",
      "44            Тихвин     49\n",
      "45          Стрельна     44\n",
      "46          Тельмана     41\n",
      "47            Рощино     39\n",
      "48          Павловск     38\n",
      "49         Романовка     37\n",
      "50         Свердлова     36\n",
      "51          Волосово     36\n",
      "52     Кузьмоловский     35\n",
      "53               Мга     33\n",
      "54              село     32\n",
      "55         Сиверский     29\n",
      "56         Новоселье     28\n",
      "57         Ивангород     28\n",
      "58             Новый     28\n",
      "59           Щеглово     24\n",
      "60       Зеленогорск     24\n",
      "61         Сясьстрой     24\n",
      "62           Колпаны     23\n",
      "63           Большая     22\n",
      "64            Вырица     22\n",
      "65              Свет     22\n",
      "66          Синявино     21\n",
      "67          Лодейное     20\n",
      "68             Малое     20\n",
      "69           Токсово     20\n",
      "70         Лесколово     20\n",
      "71         Вартемяги     20\n",
      "72              Поле     20\n",
      "73      Новогорелово     20\n",
      "74         Понтонный     20\n",
      "75          Бегуницы     19\n",
      "76        Подпорожье     19\n",
      "77          Пикалёво     18\n",
      "78           Павлово     18\n",
      "79           Сосново     18\n",
      "80             Назия     17\n",
      "81         Гарболово     17\n",
      "82          Морозова     17\n",
      "83             Ижора     17\n",
      "84             Рахья     16\n",
      "85           Большие     16\n",
      "86            Аннино     16\n",
      "87            Ладога     16\n",
      "88      Бокситогорск     16\n",
      "89       Фёдоровское     15\n",
      "90           станции     15\n",
      "91             Новая     15\n",
      "92          Дубровка     15\n",
      "93           Лебяжье     15\n",
      "94          Горбунки     15\n",
      "95      Каменногорск     13\n",
      "96       Елизаветино     13\n",
      "97         Кузнечное     13\n",
      "98         Ульяновка     13\n",
      "99             Нурма     11\n",
      "100           Верево     11\n",
      "101        Гостилицы     11\n",
      "102           Любань     11\n",
      "103        Белогорка     11\n",
      "104      Мичуринское     11\n",
      "105        Советский     11\n",
      "106       Светогорск     11\n",
      "107        Мистолово     11\n",
      "108          Колтуши     11\n",
      "109       Войсковицы     10\n",
      "110         Лаголово     10\n",
      "111       Сяськелево     10\n",
      "112     Приладожский     10\n",
      "113           Низино     10\n",
      "114           Оржицы      9\n",
      "115        Кобралово      9\n",
      "116        Молодцово      9\n",
      "117          Карлино      9\n",
      "118           Батово      9\n",
      "119           Сельцо      9\n",
      "120          Пудость      9\n",
      "121  Русско-Высоцкое      9\n",
      "122     Первомайское      8\n",
      "123         Ильичёво      8\n",
      "124       Стеклянный      8\n",
      "125      Запорожское      8\n",
      "126         Приморск      8\n",
      "127        Суходолье      8\n",
      "128         Калитино      8\n",
      "129          Красный      8\n",
      "130       Никольский      7\n",
      "131           Углово      7\n",
      "132           Кипень      7\n",
      "133         Кальтино      7\n",
      "134          Куттузи      7\n",
      "135            Малые      7\n",
      "136       Кузьмолово      7\n",
      "137           Извара      7\n",
      "138        Форносово      6\n",
      "139         Пудомяги      6\n",
      "140         Сапёрный      6\n",
      "141          Лампово      6\n",
      "142          Громово      6\n",
      "143        Лопухинка      6\n",
      "144            Ушаки      6\n",
      "145        Яльгелево      6\n",
      "146           Поляны      6\n",
      "147           Важины      6\n",
      "148       Кобринское      6\n",
      "149        Терволово      6\n",
      "150            Тайцы      6\n",
      "151            Учхоз      6\n",
      "152          Заневка      6\n",
      "153           Пеники      6\n",
      "154            Горка      6\n",
      "155           Победа      6\n",
      "156           Вещево      5\n",
      "157      Лесогорский      5\n",
      "158     товарищество      5\n",
      "159       Войскорово      5\n",
      "160          Семрино      5\n",
      "161          Копорье      5\n",
      "162         Плодовое      5\n",
      "163       Петровское      5\n",
      "164        Селезнёво      5\n",
      "165             Юкки      5\n",
      "166        Усть-Луга      5\n",
      "167        Гаврилово      5\n",
      "168          Дружная      5\n",
      "169       Молодёжное      5\n",
      "170          Глажево      5\n",
      "171       Мельниково      5\n",
      "172          Малукса      4\n",
      "173         Зимитицы      4\n",
      "174           Высоцк      4\n",
      "175      Цвелодубово      4\n",
      "176         Песочный      4\n",
      "177           Келози      4\n",
      "178      Разметелево      4\n",
      "179        Агалатово      4\n",
      "180         Торфяное      4\n",
      "181           Репино      4\n",
      "182           Перово      4\n",
      "183           Парицы      4\n",
      "184       Разбегаево      4\n",
      "185            Вруда      4\n",
      "186          садовое      4\n",
      "187            Суйда      4\n",
      "188          Красная      4\n",
      "189         Будогощь      4\n",
      "190         Кикерино      4\n",
      "191           Рябово      4\n",
      "192           Долина      3\n",
      "193        Заводской      3\n",
      "194       Жилгородок      3\n",
      "195      Рождествено      3\n",
      "196           Оредеж      3\n",
      "197              Аро      3\n",
      "198      Пригородный      3\n",
      "199       Котельский      3\n",
      "200            Лисий      3\n",
      "201      Возрождение      3\n",
      "202       Ефимовский      3\n",
      "203              Нос      3\n",
      "204        Глебычево      3\n",
      "205           Лесное      3\n",
      "206         Ваганово      3\n",
      "207         Заклинье      3\n",
      "208      Торошковичи      3\n",
      "209       Старополье      3\n",
      "210         Торосово      3\n",
      "211         Рабитицы      3\n",
      "212       коттеджный      3\n",
      "213    Приветнинское      3\n",
      "214          Виллози      3\n",
      "215           Лукаши      3\n",
      "216        Торковичи      3\n",
      "217   Старосиверская      3\n",
      "218        Камышовка      2\n",
      "219        Ям-Тесово      2\n",
      "220         Суоранда      2\n",
      "221            Свирь      2\n",
      "222       Усть-Ижора      2\n",
      "223            Ропша      2\n",
      "224          Пустошь      2\n",
      "225          Коркино      2\n",
      "226           Пушное      2\n",
      "227           Старые      2\n",
      "228           Сумино      2\n",
      "229         Путилово      2\n",
      "230              при      2\n",
      "231       Вознесенье      2\n",
      "232          Починок      2\n",
      "233          Житково      2\n",
      "234        Ленинское      2\n",
      "235        Совхозный      2\n",
      "236         Тарасово      2\n",
      "237       Коробицыно      2\n",
      "238         Барышево      2\n",
      "239         Выскатка      2\n",
      "240  железнодорожной      2\n",
      "241             Мины      2\n",
      "242             Паша      2\n",
      "243          Зелёный      2\n",
      "244    Кингисеппский      2\n",
      "245         Сапёрное      2\n",
      "246     Серебрянский      2\n",
      "247           Глинка      2\n",
      "248        Фалилеево      2\n",
      "249         Ненимяки      2\n",
      "250        Пансионат      2\n",
      "251  Александровская      2\n",
      "252            Почап      1\n",
      "253            Север      1\n",
      "254   некоммерческое      1\n",
      "255       Жилпосёлок      1\n",
      "256        Трубников      1\n",
      "257         Хязельки      1\n",
      "258        Курковицы      1\n",
      "259           Пчевжа      1\n",
      "260         Куровицы      1\n",
      "261    Мыза-Ивановка      1\n",
      "262        Гончарово      1\n",
      "263        Хинколово      1\n",
      "264      Володарское      1\n",
      "265     Севастьяново      1\n",
      "266        Лупполово      1\n",
      "267        Кивеннапа      1\n",
      "268            Иссад      1\n",
      "269             Кара      1\n",
      "270         Пельгора      1\n",
      "271         километр      1\n",
      "272      Кондратьево      1\n",
      "273          Цвылёво      1\n",
      "274       Семиозерье      1\n",
      "275          Хапо-Ое      1\n",
      "276         Пустынка      1\n",
      "277         Шугозеро      1\n",
      "278        Шпаньково      1\n",
      "279            Малая      1\n",
      "280        Рапполово      1\n",
      "281            Пчева      1\n",
      "282          Большой      1\n",
      "283          Лаврики      1\n",
      "284   Петро-Славянка      1\n",
      "285    садоводческое      1\n",
      "286        Тихковицы      1\n",
      "287         Левашово      1\n",
      "288           Лесная      1\n",
      "289           Ялгино      1\n",
      "290          Вахнова      1\n",
      "291           Поляна      1\n",
      "292        Кирпичное      1\n",
      "293   Красносельское      1\n",
      "294          Чудской      1\n",
      "295          Счастье      1\n",
      "296          Большое      1\n",
      "297          Осельки      1\n",
      "298        Мануйлово      1\n",
      "299         Меньково      1\n",
      "300            Грива      1\n",
      "301       Новолисино      1\n",
      "302        Тойворово      1\n",
      "303       Алексеевка      1\n",
      "304     Дзержинского      1\n",
      "305         Борисова      1\n",
      "306            Пижма      1\n",
      "307           Нижние      1\n",
      "308           Нижняя      1\n",
      "309             Форт      1\n",
      "310            Садко      1\n",
      "311        Пикколово      1\n",
      "312       Пустомержа      1\n",
      "313       Снегирёвка      1\n",
      "314       Свирьстрой      1\n",
      "315         Каськово      1\n",
      "316         Тёсово-4      1\n",
      "317        Платформа      1\n",
      "318              Шум      1\n",
      "319          Реброво      1\n",
      "320       Белоостров      1\n",
      "321         Кисельня      1\n",
      "322          Лужайка      1\n",
      "323        Терпилицы      1\n",
      "324            Сабск      1\n",
      "325           Старое      1\n",
      "326   Высокоключевой      1\n",
      "327          Рейзино      1\n",
      "328             69-й      1\n",
      "329      Дружноселье      1\n",
      "330           Кривко      1\n",
      "331          Плоское      1\n",
      "332          Корнево      1\n",
      "333         Раздолье      1\n",
      "334         Каложицы      1\n",
      "335            Сижно      1\n",
      "336          Ромашки      1\n",
      "337          Гладкое      1\n",
      "338           Русско      1\n",
      "339        Коммунары      1\n",
      "340            Котлы      1\n"
     ]
    }
   ],
   "source": [
    "df_1 = pd.DataFrame(df.locality_name.str.split(expand = True).stack().value_counts())\n",
    "df_1.reset_index(level = 0, inplace = True)\n",
    "df_1.columns = ['word', 'freq']\n",
    "df_1 = df_1[df_1['freq'] >= 0]\n",
    "with pd.option_context('display.max_rows', None, 'display.max_columns', 3):\n",
    "    print(df_1)"
   ]
  },
  {
   "cell_type": "markdown",
   "metadata": {},
   "source": [
    "Оставим в df_1 только те слова, которые нам необходимо удалить из df (строки 1, 2, 4, 9, 10, 16, 54, 158, 186, 212, 254, 285)."
   ]
  },
  {
   "cell_type": "code",
   "execution_count": 394,
   "metadata": {},
   "outputs": [],
   "source": [
    "df_1 = df_1.iloc[[1, 2, 4, 9, 10, 16, 54, 158, 186, 212, 254, 285]]"
   ]
  },
  {
   "cell_type": "code",
   "execution_count": 395,
   "metadata": {},
   "outputs": [
    {
     "data": {
      "text/html": [
       "<div>\n",
       "<style scoped>\n",
       "    .dataframe tbody tr th:only-of-type {\n",
       "        vertical-align: middle;\n",
       "    }\n",
       "\n",
       "    .dataframe tbody tr th {\n",
       "        vertical-align: top;\n",
       "    }\n",
       "\n",
       "    .dataframe thead th {\n",
       "        text-align: right;\n",
       "    }\n",
       "</style>\n",
       "<table border=\"1\" class=\"dataframe\">\n",
       "  <thead>\n",
       "    <tr style=\"text-align: right;\">\n",
       "      <th></th>\n",
       "      <th>word</th>\n",
       "      <th>freq</th>\n",
       "    </tr>\n",
       "  </thead>\n",
       "  <tbody>\n",
       "    <tr>\n",
       "      <th>1</th>\n",
       "      <td>посёлок</td>\n",
       "      <td>2108</td>\n",
       "    </tr>\n",
       "    <tr>\n",
       "      <th>2</th>\n",
       "      <td>деревня</td>\n",
       "      <td>945</td>\n",
       "    </tr>\n",
       "    <tr>\n",
       "      <th>4</th>\n",
       "      <td>поселок</td>\n",
       "      <td>552</td>\n",
       "    </tr>\n",
       "    <tr>\n",
       "      <th>9</th>\n",
       "      <td>городского</td>\n",
       "      <td>363</td>\n",
       "    </tr>\n",
       "    <tr>\n",
       "      <th>10</th>\n",
       "      <td>типа</td>\n",
       "      <td>363</td>\n",
       "    </tr>\n",
       "    <tr>\n",
       "      <th>16</th>\n",
       "      <td>городской</td>\n",
       "      <td>187</td>\n",
       "    </tr>\n",
       "    <tr>\n",
       "      <th>54</th>\n",
       "      <td>село</td>\n",
       "      <td>32</td>\n",
       "    </tr>\n",
       "    <tr>\n",
       "      <th>158</th>\n",
       "      <td>товарищество</td>\n",
       "      <td>5</td>\n",
       "    </tr>\n",
       "    <tr>\n",
       "      <th>186</th>\n",
       "      <td>садовое</td>\n",
       "      <td>4</td>\n",
       "    </tr>\n",
       "    <tr>\n",
       "      <th>212</th>\n",
       "      <td>коттеджный</td>\n",
       "      <td>3</td>\n",
       "    </tr>\n",
       "    <tr>\n",
       "      <th>254</th>\n",
       "      <td>некоммерческое</td>\n",
       "      <td>1</td>\n",
       "    </tr>\n",
       "    <tr>\n",
       "      <th>285</th>\n",
       "      <td>садоводческое</td>\n",
       "      <td>1</td>\n",
       "    </tr>\n",
       "  </tbody>\n",
       "</table>\n",
       "</div>"
      ],
      "text/plain": [
       "               word  freq\n",
       "1           посёлок  2108\n",
       "2           деревня   945\n",
       "4           поселок   552\n",
       "9        городского   363\n",
       "10             типа   363\n",
       "16        городской   187\n",
       "54             село    32\n",
       "158    товарищество     5\n",
       "186         садовое     4\n",
       "212      коттеджный     3\n",
       "254  некоммерческое     1\n",
       "285   садоводческое     1"
      ]
     },
     "execution_count": 395,
     "metadata": {},
     "output_type": "execute_result"
    }
   ],
   "source": [
    "df_1"
   ]
  },
  {
   "cell_type": "code",
   "execution_count": 396,
   "metadata": {},
   "outputs": [],
   "source": [
    "df.locality_name = df.locality_name.replace('|'.join(df_1['word']), '', regex=True).str.strip()"
   ]
  },
  {
   "cell_type": "markdown",
   "metadata": {},
   "source": [
    "Необходимо посчитать и добавить в таблицу следующие колонки: цена квадратного метра; день недели, месяц и год публикации объявления; этаж квартиры — первый, последний, другой; соотношение жилой и общей площади; отношение площади\n",
    "кухни к общей."
   ]
  },
  {
   "cell_type": "markdown",
   "metadata": {},
   "source": [
    "day_of_week: 0 - понедельник, 1 - вторник, 2 - среда, 3 - четверг, 4 - пятница, 5 - суббота, 6 - воскресенье."
   ]
  },
  {
   "cell_type": "markdown",
   "metadata": {},
   "source": [
    "floor_1: 0 - первый, 1 - последний, 2 - другой."
   ]
  },
  {
   "cell_type": "code",
   "execution_count": 397,
   "metadata": {},
   "outputs": [],
   "source": [
    "df['price_per_square_meter'] = df.last_price / df.total_area\n",
    "df['price_per_square_meter'] = df.price_per_square_meter.astype(np.int64)\n",
    "df['day_of_week'] = df['first_day_exposition'].dt.weekday\n",
    "df['month'] = df['first_day_exposition'].dt.month\n",
    "df['year'] = df['first_day_exposition'].dt.year\n",
    "df['floor_1'] = df['floor']\n",
    "a = df['floor_1'] != df['floors_total']\n",
    "b = df['floor_1'] != 1\n",
    "df['floor_1'] = df.floor_1.where(b, 0)\n",
    "df['floor_1'] = df.floor_1.where(a, 1)\n",
    "df['floor_1'] = df.floor_1.where(df.floor_1 < 2, 2)\n",
    "df['living_area/total_area'] = df.living_area / df.total_area\n",
    "df['kitchen_area/total_area'] = df.kitchen_area / df.total_area"
   ]
  },
  {
   "cell_type": "markdown",
   "metadata": {},
   "source": [
    "Необходимо построить гистограммы признаков total_area, last_price, rooms, ceiling_height."
   ]
  },
  {
   "cell_type": "code",
   "execution_count": 398,
   "metadata": {},
   "outputs": [
    {
     "data": {
      "text/plain": [
       "Text(0.5, 0, 'total_area')"
      ]
     },
     "execution_count": 398,
     "metadata": {},
     "output_type": "execute_result"
    },
    {
     "data": {
      "image/png": "[encoded data removed]",
      "text/plain": [
       "<Figure size 432x288 with 1 Axes>"
      ]
     },
     "metadata": {
      "needs_background": "light"
     },
     "output_type": "display_data"
    }
   ],
   "source": [
    "hist_1 = df.total_area.plot.hist(bins = 50, xlim = (0,400))\n",
    "hist_1.xaxis.grid(True)\n",
    "hist_1.set_xlabel('total_area')"
   ]
  },
  {
   "cell_type": "code",
   "execution_count": 399,
   "metadata": {},
   "outputs": [
    {
     "data": {
      "text/plain": [
       "Text(0.5, 0, 'last_price')"
      ]
     },
     "execution_count": 399,
     "metadata": {},
     "output_type": "execute_result"
    },
    {
     "data": {
      "image/png": "[encoded data removed]",
      "text/plain": [
       "<Figure size 432x288 with 1 Axes>"
      ]
     },
     "metadata": {
      "needs_background": "light"
     },
     "output_type": "display_data"
    }
   ],
   "source": [
    "hist_2 = df.last_price.plot.hist(bins = 100, xlim = (0,80000000))\n",
    "hist_2.xaxis.grid(True)\n",
    "hist_2.set_xlabel('last_price')"
   ]
  },
  {
   "cell_type": "code",
   "execution_count": 400,
   "metadata": {},
   "outputs": [
    {
     "data": {
      "text/plain": [
       "Text(0.5, 0, 'rooms')"
      ]
     },
     "execution_count": 400,
     "metadata": {},
     "output_type": "execute_result"
    },
    {
     "data": {
      "image/png": "[encoded data removed]",
      "text/plain": [
       "<Figure size 432x288 with 1 Axes>"
      ]
     },
     "metadata": {
      "needs_background": "light"
     },
     "output_type": "display_data"
    }
   ],
   "source": [
    "hist_3 = df.rooms.plot.hist(bins = 20, xlim = (0,10))\n",
    "hist_3.xaxis.grid(True)\n",
    "hist_3.set_xlabel('rooms')"
   ]
  },
  {
   "cell_type": "code",
   "execution_count": 401,
   "metadata": {},
   "outputs": [
    {
     "data": {
      "text/plain": [
       "Text(0.5, 0, 'ceiling_height')"
      ]
     },
     "execution_count": 401,
     "metadata": {},
     "output_type": "execute_result"
    },
    {
     "data": {
      "image/png": "[encoded data removed]",
      "text/plain": [
       "<Figure size 432x288 with 1 Axes>"
      ]
     },
     "metadata": {
      "needs_background": "light"
     },
     "output_type": "display_data"
    }
   ],
   "source": [
    "hist_4 = df.ceiling_height.plot.hist(bins = 50, xlim = (0,6))\n",
    "hist_4.xaxis.grid(True)\n",
    "hist_4.set_xlabel('ceiling_height')"
   ]
  },
  {
   "cell_type": "markdown",
   "metadata": {},
   "source": [
    "Построим гистограмму признака days_exposition - время продажи квартиры в днях."
   ]
  },
  {
   "cell_type": "code",
   "execution_count": 402,
   "metadata": {},
   "outputs": [
    {
     "data": {
      "text/plain": [
       "Text(0.5, 0, 'days_exposition')"
      ]
     },
     "execution_count": 402,
     "metadata": {},
     "output_type": "execute_result"
    },
    {
     "data": {
      "image/png": "[encoded data removed]",
      "text/plain": [
       "<Figure size 432x288 with 1 Axes>"
      ]
     },
     "metadata": {
      "needs_background": "light"
     },
     "output_type": "display_data"
    }
   ],
   "source": [
    "hist_5 = df.days_exposition.plot.hist(bins = 50, xlim = (0,1600))\n",
    "hist_5.xaxis.grid(True)\n",
    "hist_5.set_xlabel('days_exposition')"
   ]
  },
  {
   "cell_type": "markdown",
   "metadata": {},
   "source": [
    "Определим среднее и медиану признака days_exposition."
   ]
  },
  {
   "cell_type": "code",
   "execution_count": 403,
   "metadata": {},
   "outputs": [
    {
     "data": {
      "text/plain": [
       "(180.88863436982163, 95.0)"
      ]
     },
     "execution_count": 403,
     "metadata": {},
     "output_type": "execute_result"
    }
   ],
   "source": [
    "mean_1 = df.days_exposition.mean()\n",
    "median_1 = df.days_exposition.median()\n",
    "mean_1, median_1"
   ]
  },
  {
   "cell_type": "markdown",
   "metadata": {},
   "source": [
    "Чтобы ответить на вопрос:\"Когда можно считать, что продажи прошли очень быстро, а когда необычно долго?\", построить диаграмму \"ящик с усами\"."
   ]
  },
  {
   "cell_type": "code",
   "execution_count": 404,
   "metadata": {},
   "outputs": [
    {
     "data": {
      "text/plain": [
       "<matplotlib.axes._subplots.AxesSubplot at 0x1e9e2e5a5c0>"
      ]
     },
     "execution_count": 404,
     "metadata": {},
     "output_type": "execute_result"
    },
    {
     "data": {
      "image/png": "[encoded data removed]",
      "text/plain": [
       "<Figure size 432x288 with 1 Axes>"
      ]
     },
     "metadata": {
      "needs_background": "light"
     },
     "output_type": "display_data"
    }
   ],
   "source": [
    "box_1 = sns.boxplot(df['days_exposition'])\n",
    "box_1.xaxis.grid(True)\n",
    "box_1"
   ]
  },
  {
   "cell_type": "code",
   "execution_count": 405,
   "metadata": {},
   "outputs": [
    {
     "data": {
      "text/plain": [
       "(45.0, 95.0, 232.0)"
      ]
     },
     "execution_count": 405,
     "metadata": {},
     "output_type": "execute_result"
    }
   ],
   "source": [
    "q_25 = df.days_exposition.quantile(0.25)\n",
    "q_50 = df.days_exposition.quantile(0.5)\n",
    "q_75 = df.days_exposition.quantile(0.75)\n",
    "q_25, q_50, q_75"
   ]
  },
  {
   "cell_type": "markdown",
   "metadata": {},
   "source": [
    "Исходя из рассчитанных квартилей, можно сделать вывод, что если продажа длится более 232 дней, то данную продажу можно считать долгой. Если продажа длилась 45 дней и менее, то это быстрая продажа."
   ]
  },
  {
   "cell_type": "markdown",
   "metadata": {},
   "source": [
    "Далее необходимо избавиться от выбросов. Нужно найти их в каждом параметре"
   ]
  },
  {
   "cell_type": "markdown",
   "metadata": {},
   "source": [
    "Удалим записи, имеющие в признаке ceiling_height значения больше 10."
   ]
  },
  {
   "cell_type": "code",
   "execution_count": 407,
   "metadata": {},
   "outputs": [],
   "source": [
    "df = df.loc[df['ceiling_height'] < 10]\n",
    "df = df.reset_index()\n",
    "df = df.drop(['index'], axis = 1)"
   ]
  },
  {
   "cell_type": "markdown",
   "metadata": {},
   "source": [
    "Далее необходимо выяснить, какие факторы больше всего влияют на стоимость квартиры?"
   ]
  },
  {
   "cell_type": "markdown",
   "metadata": {},
   "source": [
    "Для этого построим тепловую карту корреляций? создав промужеточный датафрейм, содержащий только числовые столбцы"
   ]
  },
  {
   "cell_type": "code",
   "execution_count": 427,
   "metadata": {},
   "outputs": [],
   "source": [
    "df_1 = df[['last_price', 'total_area', 'rooms', 'cityCenters_nearest', 'floor_1', 'day_of_week', 'month', 'ponds_nearest', 'year']]"
   ]
  },
  {
   "cell_type": "code",
   "execution_count": 428,
   "metadata": {},
   "outputs": [
    {
     "data": {
      "text/plain": [
       "<matplotlib.axes._subplots.AxesSubplot at 0x1e9e5dff9b0>"
      ]
     },
     "execution_count": 428,
     "metadata": {},
     "output_type": "execute_result"
    },
    {
     "data": {
      "image/png": "[encoded data removed]",
      "text/plain": [
       "<Figure size 432x288 with 2 Axes>"
      ]
     },
     "metadata": {
      "needs_background": "light"
     },
     "output_type": "display_data"
    }
   ],
   "source": [
    "map_1 = sns.heatmap(df_1.corr(), annot = True, fmt = '.1g')\n",
    "map_1"
   ]
  },
  {
   "cell_type": "markdown",
   "metadata": {},
   "source": [
    "Анализируя выше приведенный график, делаем вывод, что цена зависит только от общей площади квартиры."
   ]
  },
  {
   "cell_type": "markdown",
   "metadata": {},
   "source": [
    "Далее необходимо выбрать 10 населённых пунктов с наибольшим числом объявлений, посчитать среднюю цену квадратного метра в этих населённых пунктах. Выделите среди них населённые пункты с самой высокой и низкой стоимостью жилья."
   ]
  },
  {
   "cell_type": "code",
   "execution_count": 436,
   "metadata": {},
   "outputs": [
    {
     "data": {
      "text/html": [
       "<div>\n",
       "<style scoped>\n",
       "    .dataframe tbody tr th:only-of-type {\n",
       "        vertical-align: middle;\n",
       "    }\n",
       "\n",
       "    .dataframe tbody tr th {\n",
       "        vertical-align: top;\n",
       "    }\n",
       "\n",
       "    .dataframe thead th {\n",
       "        text-align: right;\n",
       "    }\n",
       "</style>\n",
       "<table border=\"1\" class=\"dataframe\">\n",
       "  <thead>\n",
       "    <tr style=\"text-align: right;\">\n",
       "      <th></th>\n",
       "      <th>locality_name</th>\n",
       "      <th>total_images</th>\n",
       "      <th>last_price</th>\n",
       "      <th>total_area</th>\n",
       "      <th>first_day_exposition</th>\n",
       "      <th>rooms</th>\n",
       "      <th>ceiling_height</th>\n",
       "      <th>floors_total</th>\n",
       "      <th>living_area</th>\n",
       "      <th>floor</th>\n",
       "      <th>...</th>\n",
       "      <th>ponds_around3000</th>\n",
       "      <th>ponds_nearest</th>\n",
       "      <th>days_exposition</th>\n",
       "      <th>price_per_square_meter</th>\n",
       "      <th>day_of_week</th>\n",
       "      <th>month</th>\n",
       "      <th>year</th>\n",
       "      <th>floor_1</th>\n",
       "      <th>living_area/total_area</th>\n",
       "      <th>kitchen_area/total_area</th>\n",
       "    </tr>\n",
       "  </thead>\n",
       "  <tbody>\n",
       "    <tr>\n",
       "      <th>0</th>\n",
       "      <td>Санкт-Петербург</td>\n",
       "      <td>15706</td>\n",
       "      <td>15706</td>\n",
       "      <td>15706</td>\n",
       "      <td>15706</td>\n",
       "      <td>15706</td>\n",
       "      <td>15706</td>\n",
       "      <td>15636</td>\n",
       "      <td>14566</td>\n",
       "      <td>15706</td>\n",
       "      <td>...</td>\n",
       "      <td>15645</td>\n",
       "      <td>7976</td>\n",
       "      <td>13626</td>\n",
       "      <td>15706</td>\n",
       "      <td>15706</td>\n",
       "      <td>15706</td>\n",
       "      <td>15706</td>\n",
       "      <td>15706</td>\n",
       "      <td>14566</td>\n",
       "      <td>14330</td>\n",
       "    </tr>\n",
       "    <tr>\n",
       "      <th>1</th>\n",
       "      <td>Мурино</td>\n",
       "      <td>588</td>\n",
       "      <td>588</td>\n",
       "      <td>588</td>\n",
       "      <td>588</td>\n",
       "      <td>588</td>\n",
       "      <td>588</td>\n",
       "      <td>584</td>\n",
       "      <td>522</td>\n",
       "      <td>588</td>\n",
       "      <td>...</td>\n",
       "      <td>2</td>\n",
       "      <td>2</td>\n",
       "      <td>549</td>\n",
       "      <td>588</td>\n",
       "      <td>588</td>\n",
       "      <td>588</td>\n",
       "      <td>588</td>\n",
       "      <td>588</td>\n",
       "      <td>522</td>\n",
       "      <td>479</td>\n",
       "    </tr>\n",
       "    <tr>\n",
       "      <th>2</th>\n",
       "      <td>Кудрово</td>\n",
       "      <td>472</td>\n",
       "      <td>472</td>\n",
       "      <td>472</td>\n",
       "      <td>472</td>\n",
       "      <td>472</td>\n",
       "      <td>472</td>\n",
       "      <td>470</td>\n",
       "      <td>424</td>\n",
       "      <td>472</td>\n",
       "      <td>...</td>\n",
       "      <td>0</td>\n",
       "      <td>0</td>\n",
       "      <td>441</td>\n",
       "      <td>472</td>\n",
       "      <td>472</td>\n",
       "      <td>472</td>\n",
       "      <td>472</td>\n",
       "      <td>472</td>\n",
       "      <td>424</td>\n",
       "      <td>389</td>\n",
       "    </tr>\n",
       "    <tr>\n",
       "      <th>3</th>\n",
       "      <td>Шушары</td>\n",
       "      <td>440</td>\n",
       "      <td>440</td>\n",
       "      <td>440</td>\n",
       "      <td>440</td>\n",
       "      <td>440</td>\n",
       "      <td>440</td>\n",
       "      <td>439</td>\n",
       "      <td>404</td>\n",
       "      <td>440</td>\n",
       "      <td>...</td>\n",
       "      <td>436</td>\n",
       "      <td>152</td>\n",
       "      <td>408</td>\n",
       "      <td>440</td>\n",
       "      <td>440</td>\n",
       "      <td>440</td>\n",
       "      <td>440</td>\n",
       "      <td>440</td>\n",
       "      <td>404</td>\n",
       "      <td>398</td>\n",
       "    </tr>\n",
       "    <tr>\n",
       "      <th>4</th>\n",
       "      <td>Всеволожск</td>\n",
       "      <td>398</td>\n",
       "      <td>398</td>\n",
       "      <td>398</td>\n",
       "      <td>398</td>\n",
       "      <td>398</td>\n",
       "      <td>398</td>\n",
       "      <td>398</td>\n",
       "      <td>371</td>\n",
       "      <td>398</td>\n",
       "      <td>...</td>\n",
       "      <td>0</td>\n",
       "      <td>0</td>\n",
       "      <td>339</td>\n",
       "      <td>398</td>\n",
       "      <td>398</td>\n",
       "      <td>398</td>\n",
       "      <td>398</td>\n",
       "      <td>398</td>\n",
       "      <td>371</td>\n",
       "      <td>357</td>\n",
       "    </tr>\n",
       "    <tr>\n",
       "      <th>5</th>\n",
       "      <td>Пушкин</td>\n",
       "      <td>369</td>\n",
       "      <td>369</td>\n",
       "      <td>369</td>\n",
       "      <td>369</td>\n",
       "      <td>369</td>\n",
       "      <td>369</td>\n",
       "      <td>369</td>\n",
       "      <td>345</td>\n",
       "      <td>369</td>\n",
       "      <td>...</td>\n",
       "      <td>369</td>\n",
       "      <td>177</td>\n",
       "      <td>307</td>\n",
       "      <td>369</td>\n",
       "      <td>369</td>\n",
       "      <td>369</td>\n",
       "      <td>369</td>\n",
       "      <td>369</td>\n",
       "      <td>345</td>\n",
       "      <td>338</td>\n",
       "    </tr>\n",
       "    <tr>\n",
       "      <th>6</th>\n",
       "      <td>Колпино</td>\n",
       "      <td>338</td>\n",
       "      <td>338</td>\n",
       "      <td>338</td>\n",
       "      <td>338</td>\n",
       "      <td>338</td>\n",
       "      <td>338</td>\n",
       "      <td>338</td>\n",
       "      <td>328</td>\n",
       "      <td>338</td>\n",
       "      <td>...</td>\n",
       "      <td>337</td>\n",
       "      <td>190</td>\n",
       "      <td>308</td>\n",
       "      <td>338</td>\n",
       "      <td>338</td>\n",
       "      <td>338</td>\n",
       "      <td>338</td>\n",
       "      <td>338</td>\n",
       "      <td>328</td>\n",
       "      <td>322</td>\n",
       "    </tr>\n",
       "    <tr>\n",
       "      <th>7</th>\n",
       "      <td>Парголово</td>\n",
       "      <td>327</td>\n",
       "      <td>327</td>\n",
       "      <td>327</td>\n",
       "      <td>327</td>\n",
       "      <td>327</td>\n",
       "      <td>327</td>\n",
       "      <td>327</td>\n",
       "      <td>301</td>\n",
       "      <td>327</td>\n",
       "      <td>...</td>\n",
       "      <td>327</td>\n",
       "      <td>56</td>\n",
       "      <td>302</td>\n",
       "      <td>327</td>\n",
       "      <td>327</td>\n",
       "      <td>327</td>\n",
       "      <td>327</td>\n",
       "      <td>327</td>\n",
       "      <td>301</td>\n",
       "      <td>289</td>\n",
       "    </tr>\n",
       "    <tr>\n",
       "      <th>8</th>\n",
       "      <td>Гатчина</td>\n",
       "      <td>306</td>\n",
       "      <td>306</td>\n",
       "      <td>306</td>\n",
       "      <td>306</td>\n",
       "      <td>306</td>\n",
       "      <td>306</td>\n",
       "      <td>306</td>\n",
       "      <td>291</td>\n",
       "      <td>306</td>\n",
       "      <td>...</td>\n",
       "      <td>0</td>\n",
       "      <td>0</td>\n",
       "      <td>267</td>\n",
       "      <td>306</td>\n",
       "      <td>306</td>\n",
       "      <td>306</td>\n",
       "      <td>306</td>\n",
       "      <td>306</td>\n",
       "      <td>291</td>\n",
       "      <td>294</td>\n",
       "    </tr>\n",
       "    <tr>\n",
       "      <th>9</th>\n",
       "      <td>Выборг</td>\n",
       "      <td>237</td>\n",
       "      <td>237</td>\n",
       "      <td>237</td>\n",
       "      <td>237</td>\n",
       "      <td>237</td>\n",
       "      <td>237</td>\n",
       "      <td>237</td>\n",
       "      <td>193</td>\n",
       "      <td>237</td>\n",
       "      <td>...</td>\n",
       "      <td>0</td>\n",
       "      <td>0</td>\n",
       "      <td>208</td>\n",
       "      <td>237</td>\n",
       "      <td>237</td>\n",
       "      <td>237</td>\n",
       "      <td>237</td>\n",
       "      <td>237</td>\n",
       "      <td>193</td>\n",
       "      <td>201</td>\n",
       "    </tr>\n",
       "  </tbody>\n",
       "</table>\n",
       "<p>10 rows × 29 columns</p>\n",
       "</div>"
      ],
      "text/plain": [
       "     locality_name  total_images  last_price  total_area  \\\n",
       "0  Санкт-Петербург         15706       15706       15706   \n",
       "1           Мурино           588         588         588   \n",
       "2          Кудрово           472         472         472   \n",
       "3           Шушары           440         440         440   \n",
       "4       Всеволожск           398         398         398   \n",
       "5           Пушкин           369         369         369   \n",
       "6          Колпино           338         338         338   \n",
       "7        Парголово           327         327         327   \n",
       "8          Гатчина           306         306         306   \n",
       "9           Выборг           237         237         237   \n",
       "\n",
       "   first_day_exposition  rooms  ceiling_height  floors_total  living_area  \\\n",
       "0                 15706  15706           15706         15636        14566   \n",
       "1                   588    588             588           584          522   \n",
       "2                   472    472             472           470          424   \n",
       "3                   440    440             440           439          404   \n",
       "4                   398    398             398           398          371   \n",
       "5                   369    369             369           369          345   \n",
       "6                   338    338             338           338          328   \n",
       "7                   327    327             327           327          301   \n",
       "8                   306    306             306           306          291   \n",
       "9                   237    237             237           237          193   \n",
       "\n",
       "   floor  ...  ponds_around3000  ponds_nearest  days_exposition  \\\n",
       "0  15706  ...             15645           7976            13626   \n",
       "1    588  ...                 2              2              549   \n",
       "2    472  ...                 0              0              441   \n",
       "3    440  ...               436            152              408   \n",
       "4    398  ...                 0              0              339   \n",
       "5    369  ...               369            177              307   \n",
       "6    338  ...               337            190              308   \n",
       "7    327  ...               327             56              302   \n",
       "8    306  ...                 0              0              267   \n",
       "9    237  ...                 0              0              208   \n",
       "\n",
       "   price_per_square_meter  day_of_week  month   year  floor_1  \\\n",
       "0                   15706        15706  15706  15706    15706   \n",
       "1                     588          588    588    588      588   \n",
       "2                     472          472    472    472      472   \n",
       "3                     440          440    440    440      440   \n",
       "4                     398          398    398    398      398   \n",
       "5                     369          369    369    369      369   \n",
       "6                     338          338    338    338      338   \n",
       "7                     327          327    327    327      327   \n",
       "8                     306          306    306    306      306   \n",
       "9                     237          237    237    237      237   \n",
       "\n",
       "   living_area/total_area  kitchen_area/total_area  \n",
       "0                   14566                    14330  \n",
       "1                     522                      479  \n",
       "2                     424                      389  \n",
       "3                     404                      398  \n",
       "4                     371                      357  \n",
       "5                     345                      338  \n",
       "6                     328                      322  \n",
       "7                     301                      289  \n",
       "8                     291                      294  \n",
       "9                     193                      201  \n",
       "\n",
       "[10 rows x 29 columns]"
      ]
     },
     "execution_count": 436,
     "metadata": {},
     "output_type": "execute_result"
    }
   ],
   "source": [
    "df_2 = df.groupby(['locality_name'], as_index = False).count()\n",
    "df_2 = df_2.sort_values(['last_price'], ascending = False) \n",
    "df_2 = df_2.reset_index()\n",
    "df_2 = df_2.drop(['index'], axis = 1)\n",
    "df_2 = df_2.loc[:9]\n",
    "df_2"
   ]
  },
  {
   "cell_type": "code",
   "execution_count": 449,
   "metadata": {},
   "outputs": [
    {
     "data": {
      "text/html": [
       "<div>\n",
       "<style scoped>\n",
       "    .dataframe tbody tr th:only-of-type {\n",
       "        vertical-align: middle;\n",
       "    }\n",
       "\n",
       "    .dataframe tbody tr th {\n",
       "        vertical-align: top;\n",
       "    }\n",
       "\n",
       "    .dataframe thead th {\n",
       "        text-align: right;\n",
       "    }\n",
       "</style>\n",
       "<table border=\"1\" class=\"dataframe\">\n",
       "  <thead>\n",
       "    <tr style=\"text-align: right;\">\n",
       "      <th></th>\n",
       "      <th>locality_name</th>\n",
       "      <th>mean_last_price</th>\n",
       "      <th>mean_price_per_square_meter</th>\n",
       "    </tr>\n",
       "  </thead>\n",
       "  <tbody>\n",
       "    <tr>\n",
       "      <th>8</th>\n",
       "      <td>Санкт-Петербург</td>\n",
       "      <td>8.064238e+06</td>\n",
       "      <td>114827.500764</td>\n",
       "    </tr>\n",
       "    <tr>\n",
       "      <th>7</th>\n",
       "      <td>Пушкин</td>\n",
       "      <td>6.469036e+06</td>\n",
       "      <td>103125.373984</td>\n",
       "    </tr>\n",
       "    <tr>\n",
       "      <th>4</th>\n",
       "      <td>Кудрово</td>\n",
       "      <td>4.358688e+06</td>\n",
       "      <td>95324.476695</td>\n",
       "    </tr>\n",
       "    <tr>\n",
       "      <th>6</th>\n",
       "      <td>Парголово</td>\n",
       "      <td>4.488075e+06</td>\n",
       "      <td>90175.489297</td>\n",
       "    </tr>\n",
       "    <tr>\n",
       "      <th>5</th>\n",
       "      <td>Мурино</td>\n",
       "      <td>3.679409e+06</td>\n",
       "      <td>86064.363946</td>\n",
       "    </tr>\n",
       "    <tr>\n",
       "      <th>9</th>\n",
       "      <td>Шушары</td>\n",
       "      <td>4.108082e+06</td>\n",
       "      <td>78676.904545</td>\n",
       "    </tr>\n",
       "    <tr>\n",
       "      <th>3</th>\n",
       "      <td>Колпино</td>\n",
       "      <td>3.964021e+06</td>\n",
       "      <td>75424.150888</td>\n",
       "    </tr>\n",
       "    <tr>\n",
       "      <th>2</th>\n",
       "      <td>Гатчина</td>\n",
       "      <td>3.487972e+06</td>\n",
       "      <td>68757.225490</td>\n",
       "    </tr>\n",
       "    <tr>\n",
       "      <th>0</th>\n",
       "      <td>Всеволожск</td>\n",
       "      <td>3.789068e+06</td>\n",
       "      <td>68654.007538</td>\n",
       "    </tr>\n",
       "    <tr>\n",
       "      <th>1</th>\n",
       "      <td>Выборг</td>\n",
       "      <td>3.250983e+06</td>\n",
       "      <td>58141.489451</td>\n",
       "    </tr>\n",
       "  </tbody>\n",
       "</table>\n",
       "</div>"
      ],
      "text/plain": [
       "     locality_name  mean_last_price  mean_price_per_square_meter\n",
       "8  Санкт-Петербург     8.064238e+06                114827.500764\n",
       "7           Пушкин     6.469036e+06                103125.373984\n",
       "4          Кудрово     4.358688e+06                 95324.476695\n",
       "6        Парголово     4.488075e+06                 90175.489297\n",
       "5           Мурино     3.679409e+06                 86064.363946\n",
       "9           Шушары     4.108082e+06                 78676.904545\n",
       "3          Колпино     3.964021e+06                 75424.150888\n",
       "2          Гатчина     3.487972e+06                 68757.225490\n",
       "0       Всеволожск     3.789068e+06                 68654.007538\n",
       "1           Выборг     3.250983e+06                 58141.489451"
      ]
     },
     "execution_count": 449,
     "metadata": {},
     "output_type": "execute_result"
    }
   ],
   "source": [
    "df_2 = df[['locality_name', 'last_price', 'price_per_square_meter']]\n",
    "dict_1 = ['Санкт-Петербург', 'Мурино', 'Кудрово', 'Шушары', 'Всеволожск', 'Пушкин', 'Колпино',\n",
    "                           'Парголово', 'Гатчина', 'Выборг']\n",
    "df_2 = df_2[df_2['locality_name'].isin(dict_1)]\n",
    "df_2 = df_2.groupby(['locality_name'], as_index = False) \\\n",
    "    .aggregate({'last_price': 'mean', 'price_per_square_meter': 'mean'}) \\\n",
    "    .rename(columns = {'last_price': 'mean_last_price', 'price_per_square_meter': 'mean_price_per_square_meter'}) \\\n",
    "    .sort_values(['mean_price_per_square_meter'], ascending = False) \n",
    "df_2"
   ]
  },
  {
   "cell_type": "markdown",
   "metadata": {},
   "source": [
    "Как видно по таблице, наиболее дорогое жилье находится в Санкт-Петербурге."
   ]
  },
  {
   "cell_type": "markdown",
   "metadata": {},
   "source": [
    "Следжующим шагом нужно изучить предложения квартир: для каждой квартиры есть информация о расстоянии до центра. Необходимо выделить квартиры в Санкт-Петербурге и выяснить, какая область входит в центр. "
   ]
  },
  {
   "cell_type": "markdown",
   "metadata": {},
   "source": [
    "Для этого создадим столбец с расстоянием до центра в километрах и посчитаем среднюю цену для каждого километра. Построим график: он должен показывать, как цена зависит от удалённости от центра. Определим границу, где график сильно меняется — это и будет центральная зона."
   ]
  },
  {
   "cell_type": "code",
   "execution_count": 459,
   "metadata": {},
   "outputs": [
    {
     "data": {
      "text/html": [
       "<div>\n",
       "<style scoped>\n",
       "    .dataframe tbody tr th:only-of-type {\n",
       "        vertical-align: middle;\n",
       "    }\n",
       "\n",
       "    .dataframe tbody tr th {\n",
       "        vertical-align: top;\n",
       "    }\n",
       "\n",
       "    .dataframe thead th {\n",
       "        text-align: right;\n",
       "    }\n",
       "</style>\n",
       "<table border=\"1\" class=\"dataframe\">\n",
       "  <thead>\n",
       "    <tr style=\"text-align: right;\">\n",
       "      <th></th>\n",
       "      <th>cityCenters_nearest</th>\n",
       "      <th>mean_last_price_mln</th>\n",
       "    </tr>\n",
       "  </thead>\n",
       "  <tbody>\n",
       "    <tr>\n",
       "      <th>0</th>\n",
       "      <td>0.0</td>\n",
       "      <td>31.449116</td>\n",
       "    </tr>\n",
       "    <tr>\n",
       "      <th>1</th>\n",
       "      <td>1.0</td>\n",
       "      <td>21.206721</td>\n",
       "    </tr>\n",
       "    <tr>\n",
       "      <th>2</th>\n",
       "      <td>2.0</td>\n",
       "      <td>17.788320</td>\n",
       "    </tr>\n",
       "    <tr>\n",
       "      <th>6</th>\n",
       "      <td>6.0</td>\n",
       "      <td>15.338418</td>\n",
       "    </tr>\n",
       "    <tr>\n",
       "      <th>7</th>\n",
       "      <td>7.0</td>\n",
       "      <td>14.775153</td>\n",
       "    </tr>\n",
       "    <tr>\n",
       "      <th>5</th>\n",
       "      <td>5.0</td>\n",
       "      <td>14.499121</td>\n",
       "    </tr>\n",
       "    <tr>\n",
       "      <th>4</th>\n",
       "      <td>4.0</td>\n",
       "      <td>13.309091</td>\n",
       "    </tr>\n",
       "    <tr>\n",
       "      <th>3</th>\n",
       "      <td>3.0</td>\n",
       "      <td>11.135540</td>\n",
       "    </tr>\n",
       "    <tr>\n",
       "      <th>8</th>\n",
       "      <td>8.0</td>\n",
       "      <td>9.969961</td>\n",
       "    </tr>\n",
       "    <tr>\n",
       "      <th>27</th>\n",
       "      <td>27.0</td>\n",
       "      <td>8.300000</td>\n",
       "    </tr>\n",
       "    <tr>\n",
       "      <th>9</th>\n",
       "      <td>9.0</td>\n",
       "      <td>6.950659</td>\n",
       "    </tr>\n",
       "    <tr>\n",
       "      <th>10</th>\n",
       "      <td>10.0</td>\n",
       "      <td>6.506353</td>\n",
       "    </tr>\n",
       "    <tr>\n",
       "      <th>11</th>\n",
       "      <td>11.0</td>\n",
       "      <td>6.252387</td>\n",
       "    </tr>\n",
       "    <tr>\n",
       "      <th>13</th>\n",
       "      <td>13.0</td>\n",
       "      <td>6.084458</td>\n",
       "    </tr>\n",
       "    <tr>\n",
       "      <th>20</th>\n",
       "      <td>20.0</td>\n",
       "      <td>5.905662</td>\n",
       "    </tr>\n",
       "    <tr>\n",
       "      <th>15</th>\n",
       "      <td>15.0</td>\n",
       "      <td>5.884231</td>\n",
       "    </tr>\n",
       "    <tr>\n",
       "      <th>12</th>\n",
       "      <td>12.0</td>\n",
       "      <td>5.828874</td>\n",
       "    </tr>\n",
       "    <tr>\n",
       "      <th>14</th>\n",
       "      <td>14.0</td>\n",
       "      <td>5.630439</td>\n",
       "    </tr>\n",
       "    <tr>\n",
       "      <th>21</th>\n",
       "      <td>21.0</td>\n",
       "      <td>5.493469</td>\n",
       "    </tr>\n",
       "    <tr>\n",
       "      <th>22</th>\n",
       "      <td>22.0</td>\n",
       "      <td>5.415524</td>\n",
       "    </tr>\n",
       "    <tr>\n",
       "      <th>16</th>\n",
       "      <td>16.0</td>\n",
       "      <td>5.374296</td>\n",
       "    </tr>\n",
       "    <tr>\n",
       "      <th>17</th>\n",
       "      <td>17.0</td>\n",
       "      <td>5.292395</td>\n",
       "    </tr>\n",
       "    <tr>\n",
       "      <th>18</th>\n",
       "      <td>18.0</td>\n",
       "      <td>5.091331</td>\n",
       "    </tr>\n",
       "    <tr>\n",
       "      <th>19</th>\n",
       "      <td>19.0</td>\n",
       "      <td>5.037675</td>\n",
       "    </tr>\n",
       "    <tr>\n",
       "      <th>28</th>\n",
       "      <td>28.0</td>\n",
       "      <td>5.026429</td>\n",
       "    </tr>\n",
       "    <tr>\n",
       "      <th>23</th>\n",
       "      <td>23.0</td>\n",
       "      <td>4.985376</td>\n",
       "    </tr>\n",
       "    <tr>\n",
       "      <th>29</th>\n",
       "      <td>29.0</td>\n",
       "      <td>4.236667</td>\n",
       "    </tr>\n",
       "    <tr>\n",
       "      <th>25</th>\n",
       "      <td>25.0</td>\n",
       "      <td>4.052840</td>\n",
       "    </tr>\n",
       "    <tr>\n",
       "      <th>26</th>\n",
       "      <td>26.0</td>\n",
       "      <td>3.973013</td>\n",
       "    </tr>\n",
       "    <tr>\n",
       "      <th>24</th>\n",
       "      <td>24.0</td>\n",
       "      <td>3.854430</td>\n",
       "    </tr>\n",
       "  </tbody>\n",
       "</table>\n",
       "</div>"
      ],
      "text/plain": [
       "    cityCenters_nearest  mean_last_price_mln\n",
       "0                   0.0            31.449116\n",
       "1                   1.0            21.206721\n",
       "2                   2.0            17.788320\n",
       "6                   6.0            15.338418\n",
       "7                   7.0            14.775153\n",
       "5                   5.0            14.499121\n",
       "4                   4.0            13.309091\n",
       "3                   3.0            11.135540\n",
       "8                   8.0             9.969961\n",
       "27                 27.0             8.300000\n",
       "9                   9.0             6.950659\n",
       "10                 10.0             6.506353\n",
       "11                 11.0             6.252387\n",
       "13                 13.0             6.084458\n",
       "20                 20.0             5.905662\n",
       "15                 15.0             5.884231\n",
       "12                 12.0             5.828874\n",
       "14                 14.0             5.630439\n",
       "21                 21.0             5.493469\n",
       "22                 22.0             5.415524\n",
       "16                 16.0             5.374296\n",
       "17                 17.0             5.292395\n",
       "18                 18.0             5.091331\n",
       "19                 19.0             5.037675\n",
       "28                 28.0             5.026429\n",
       "23                 23.0             4.985376\n",
       "29                 29.0             4.236667\n",
       "25                 25.0             4.052840\n",
       "26                 26.0             3.973013\n",
       "24                 24.0             3.854430"
      ]
     },
     "execution_count": 459,
     "metadata": {},
     "output_type": "execute_result"
    }
   ],
   "source": [
    "df_3 = df[['locality_name', 'cityCenters_nearest', 'last_price']]\n",
    "dict_2 = ['Санкт-Петербург']\n",
    "df_3 = df_3[df_3['locality_name'].isin(dict_2)]\n",
    "df_3 = df_3.drop(['locality_name'], axis = 1)\n",
    "df_3['cityCenters_nearest'] = df_3['cityCenters_nearest'] / 1000\n",
    "df_3['cityCenters_nearest'] = df_3.cityCenters_nearest.round(0)\n",
    "df_3 = df_3.groupby(['cityCenters_nearest'], as_index = False) \\\n",
    "    .aggregate({'last_price': 'mean'}) \\\n",
    "    .rename(columns = {'last_price': 'mean_last_price'}) \\\n",
    "    .sort_values(['mean_last_price'], ascending = False) \n",
    "df_3['mean_last_price'] = df_3['mean_last_price'] / 1000000\n",
    "df_3 = df_3.rename(columns = {'mean_last_price': 'mean_last_price_mln'})\n",
    "df_3"
   ]
  },
  {
   "cell_type": "code",
   "execution_count": 461,
   "metadata": {},
   "outputs": [
    {
     "data": {
      "text/plain": [
       "<matplotlib.axes._subplots.AxesSubplot at 0x1e9f17432e8>"
      ]
     },
     "execution_count": 461,
     "metadata": {},
     "output_type": "execute_result"
    },
    {
     "data": {
      "image/png": "[encoded data removed]",
      "text/plain": [
       "<Figure size 432x288 with 1 Axes>"
      ]
     },
     "metadata": {},
     "output_type": "display_data"
    }
   ],
   "source": [
    "graph_1 = sns.lineplot(x = df_3.cityCenters_nearest, y = df_3.mean_last_price_mln)\n",
    "graph_1.xaxis.grid(True)\n",
    "graph_1"
   ]
  },
  {
   "cell_type": "markdown",
   "metadata": {},
   "source": [
    "Таким образом, видим, что центр Санкт-Петербурга имеет радиус 3 километра."
   ]
  },
  {
   "cell_type": "markdown",
   "metadata": {},
   "source": [
    "Выделим сегмент квартир в центре. Проанализируем эту территорию и выделим факторы, которые влияют на стоимость квартиры. Отличаются ли данные выводы от общих выводов по всему городу?"
   ]
  },
  {
   "cell_type": "code",
   "execution_count": 472,
   "metadata": {},
   "outputs": [
    {
     "data": {
      "text/plain": [
       "<matplotlib.axes._subplots.AxesSubplot at 0x1e9e83c0438>"
      ]
     },
     "execution_count": 472,
     "metadata": {},
     "output_type": "execute_result"
    },
    {
     "data": {
      "image/png": "[encoded data removed]",
      "text/plain": [
       "<Figure size 432x288 with 2 Axes>"
      ]
     },
     "metadata": {},
     "output_type": "display_data"
    }
   ],
   "source": [
    "df_4 = df\n",
    "df_4 = df_4[df_4['locality_name'].isin(dict_2)]\n",
    "df_4 = df_4.drop(['locality_name'], axis = 1)\n",
    "df_4['cityCenters_nearest'] = df_4['cityCenters_nearest'] / 1000\n",
    "df_4['cityCenters_nearest'] = df_4.cityCenters_nearest.round(0)\n",
    "df_4 = df_4.loc[df_4['cityCenters_nearest'] <= 3]\n",
    "df_4 = df_4.reset_index()\n",
    "df_4 = df_4.drop(['index'], axis = 1)\n",
    "df_5 = df_4[['last_price', 'total_area', 'cityCenters_nearest', 'floor_1', 'day_of_week', 'month', 'ponds_nearest', 'year']]\n",
    "map_2 = sns.heatmap(df_5.corr(), annot = True, fmt = '.1g')\n",
    "map_2"
   ]
  },
  {
   "cell_type": "markdown",
   "metadata": {},
   "source": [
    "Проанализировав данный график, видим, что зависимость между общей площадью квартиры и ценой гораздо ниже в центре города, чем в целом по городу."
   ]
  }
 ],
 "metadata": {
  "kernelspec": {
   "display_name": "Python 3",
   "language": "python",
   "name": "python3"
  },
  "language_info": {
   "codemirror_mode": {
    "name": "ipython",
    "version": 3
   },
   "file_extension": ".py",
   "mimetype": "text/x-python",
   "name": "python",
   "nbconvert_exporter": "python",
   "pygments_lexer": "ipython3",
   "version": "3.7.3"
  }
 },
 "nbformat": 4,
 "nbformat_minor": 2
}
